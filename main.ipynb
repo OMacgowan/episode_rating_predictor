{
 "cells": [
  {
   "cell_type": "markdown",
   "metadata": {},
   "source": [
    "Imports:"
   ]
  },
  {
   "cell_type": "code",
   "execution_count": null,
   "metadata": {},
   "outputs": [],
   "source": [
    "import pandas as pd\n",
    "import numpy as np\n",
    "import matplotlib as plt\n",
    "from sklearn import linear_model as lm\n"
   ]
  },
  {
   "cell_type": "code",
   "execution_count": null,
   "metadata": {},
   "outputs": [],
   "source": [
    "Data Retrieval"
   ]
  },
  {
   "cell_type": "code",
   "execution_count": null,
   "metadata": {},
   "outputs": [],
   "source": [
    "dialogue = pd.read_csv((\"https://raw.githubusercontent.com/\"\n",
    " \"rfordatascience/tidytuesday/master/data/\"\n",
    " \"2020/2020-09-08/friends.csv\"))\n",
    "\n",
    "episodes = pd.read_csv((\"https://raw.githubusercontent.com/\"\n",
    " \"rfordatascience/tidytuesday/master/data/\"\n",
    " \"2020/2020-09-08/friends_info.csv\"))\n",
    "\n",
    "print(\"Example Dialogue:\")\n",
    "dialogue.head(5)\n",
    "\n",
    "print(\"Example Episode:\")\n",
    "episodes.head(5)"
   ]
  }
 ],
 "metadata": {
  "language_info": {
   "name": "python"
  }
 },
 "nbformat": 4,
 "nbformat_minor": 2
}
