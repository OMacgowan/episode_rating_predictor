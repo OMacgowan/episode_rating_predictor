{
 "cells": [
  {
   "cell_type": "markdown",
   "metadata": {},
   "source": [
    "# <span style=\"color:#ff4238;\">__DATA 200 FINAL Project__</span>\n",
    "\n",
    "#### Authors: Brandon Chan, Lucas Duncan, Owen Macgowan, Brayden Van De Wynckel\n",
    "\n",
    "#### Date: April 2024\n",
    "\n",
    "![Friends](https://qph.cf2.quoracdn.net/main-qimg-55f2935b1d162eb07783e02013ca66e9-lq)\n",
    "\n",
    "---\n",
    "## <span style=\"color:#42a2d6;\">__Summary of Contents__</span>\n",
    "#### __Our Final project will build on our midterm and cover the following topics:__\n",
    "1. Background and Purpose\n",
    "2. Research Question\n",
    "3. Importing Data\n",
    "4. Processing Data\n",
    "5. Inference\n",
    "6. Prediction Task\n",
    "7. Regression + Classification"
   ]
  },
  {
   "cell_type": "markdown",
   "metadata": {},
   "source": [
    "# <span style=\"color:#f6be00;\">__1. Background and Purpose__</span>\n",
    "The frequency of dialogue By characters, and between characters in a show, as well as the tone of this dialogue (ie exclamatory dialogue) plays a huge role in determining the feel, emotion, and plot itself of a film/tv show. These factors among other things, greatly impact \n",
    "not only the story being told, but the perception of it by its viewer, and its perception of quality by its rater.\n",
    "\n",
    "Within our midterm project we looked at the well known tv show FRIENDS, and we found correlations existed between frequency of dialogue and exclamatory dialogue by certain main characters, and the rating of the episode it occured in, as well as finding a relationship between the viewership size of the episode it occured in.\n",
    "\n",
    "For our final project, we wanted to build on this idea:\n",
    "\n",
    "One of us had recently been watching the show, and noticed, the show commonly brought on Celebrities to feature as \"non main characters\" for an episode or two, and he had wondered, what impact the participation of such background characters interacting with the larger show had on its audience perception.\n",
    "\n",
    "So, In addition to furthering our look into dialogue and exclamatory dialogue (we consider text in upper case, or containing excalamation marks exclamatory) by the main characters, we also wanted to see, and model whether a relationship exists, between the collective dialogue, and collective exclamatory dialogue of the non-main characters, on the critics and viewers perception of the episode they belong to."
   ]
  },
  {
   "cell_type": "markdown",
   "metadata": {},
   "source": [
    "## <span style=\"color:#f6be00;\">__2 General Research Question__</span>\n",
    "### Does a correlation exist between the frequency of dialogue, and exclamatory dialogue by individual main character, as well as collective non-main characters, with the shows viewership numbers and ratings across episodes. \n",
    "\n",
    "### Can nothing more then exclamatory dialogue be a an effective predictor for it?, what trends tend to contribute to an episodes success?, and can we guess whether an episode will be better liked by critics or fans using it?\n",
    "\n",
    "\n",
    "\n",
    "\n"
   ]
  },
  {
   "cell_type": "markdown",
   "metadata": {},
   "source": [
    "# <span style=\"color:#ff4238;\">__3. Imports__</span>\n",
    "#### This section imports all of the required components for data importing, data cleaning, visualization, and modeling."
   ]
  },
  {
   "cell_type": "code",
   "execution_count": 387,
   "metadata": {},
   "outputs": [],
   "source": [
    "import pandas as pd\n",
    "import numpy as np\n",
    "import seaborn as sns\n",
    "import matplotlib.pyplot as plt\n",
    "import matplotlib.pyplot as plt\n",
    "from sklearn import linear_model as lm\n",
    "from sklearn.model_selection import train_test_split\n",
    "from sklearn.metrics import accuracy_score\n",
    "from sklearn.tree import DecisionTreeClassifier\n",
    "from sklearn.ensemble import BaggingClassifier\n",
    "from sklearn.preprocessing import StandardScaler\n",
    "from sklearn.model_selection import RepeatedKFold\n",
    "from sklearn.linear_model import Ridge, RidgeCV, Lasso, LassoCV\n",
    "import sklearn.metrics as sklm\n",
    "from sklearn.model_selection import GridSearchCV\n",
    "from sklearn.linear_model import Ridge, Lasso\n",
    "from sklearn.model_selection import train_test_split\n",
    "from sklearn.metrics import mean_squared_error\n",
    "from sklearn.linear_model import LogisticRegression\n",
    "from sklearn.model_selection import train_test_split\n",
    "from sklearn.metrics import classification_report, confusion_matrix"
   ]
  },
  {
   "cell_type": "code",
   "execution_count": 3,
   "metadata": {},
   "outputs": [
    {
     "data": {
      "text/html": [
       "<div>\n",
       "<style scoped>\n",
       "    .dataframe tbody tr th:only-of-type {\n",
       "        vertical-align: middle;\n",
       "    }\n",
       "\n",
       "    .dataframe tbody tr th {\n",
       "        vertical-align: top;\n",
       "    }\n",
       "\n",
       "    .dataframe thead th {\n",
       "        text-align: right;\n",
       "    }\n",
       "</style>\n",
       "<table border=\"1\" class=\"dataframe\">\n",
       "  <thead>\n",
       "    <tr style=\"text-align: right;\">\n",
       "      <th></th>\n",
       "      <th>text</th>\n",
       "      <th>speaker</th>\n",
       "      <th>season</th>\n",
       "      <th>episode</th>\n",
       "      <th>scene</th>\n",
       "      <th>utterance</th>\n",
       "    </tr>\n",
       "  </thead>\n",
       "  <tbody>\n",
       "    <tr>\n",
       "      <th>32641</th>\n",
       "      <td>So where are we going next?</td>\n",
       "      <td>Ross Geller</td>\n",
       "      <td>5</td>\n",
       "      <td>20</td>\n",
       "      <td>5</td>\n",
       "      <td>2</td>\n",
       "    </tr>\n",
       "    <tr>\n",
       "      <th>172</th>\n",
       "      <td>...Yeah. Yeah, I do.</td>\n",
       "      <td>Monica Geller</td>\n",
       "      <td>1</td>\n",
       "      <td>1</td>\n",
       "      <td>8</td>\n",
       "      <td>14</td>\n",
       "    </tr>\n",
       "  </tbody>\n",
       "</table>\n",
       "</div>"
      ],
      "text/plain": [
       "                              text        speaker  season  episode  scene  \\\n",
       "32641  So where are we going next?    Ross Geller       5       20      5   \n",
       "172           ...Yeah. Yeah, I do.  Monica Geller       1        1      8   \n",
       "\n",
       "       utterance  \n",
       "32641          2  \n",
       "172           14  "
      ]
     },
     "execution_count": 3,
     "metadata": {},
     "output_type": "execute_result"
    }
   ],
   "source": [
    "dialogue = pd.read_csv((\"https://raw.githubusercontent.com/rfordatascience/tidytuesday/master/data/2020/2020-09-08/friends.csv\"))\n",
    "dialogue.sample(2)"
   ]
  },
  {
   "cell_type": "code",
   "execution_count": 4,
   "metadata": {},
   "outputs": [
    {
     "data": {
      "text/html": [
       "<div>\n",
       "<style scoped>\n",
       "    .dataframe tbody tr th:only-of-type {\n",
       "        vertical-align: middle;\n",
       "    }\n",
       "\n",
       "    .dataframe tbody tr th {\n",
       "        vertical-align: top;\n",
       "    }\n",
       "\n",
       "    .dataframe thead th {\n",
       "        text-align: right;\n",
       "    }\n",
       "</style>\n",
       "<table border=\"1\" class=\"dataframe\">\n",
       "  <thead>\n",
       "    <tr style=\"text-align: right;\">\n",
       "      <th></th>\n",
       "      <th>season</th>\n",
       "      <th>episode</th>\n",
       "      <th>title</th>\n",
       "      <th>directed_by</th>\n",
       "      <th>written_by</th>\n",
       "      <th>air_date</th>\n",
       "      <th>us_views_millions</th>\n",
       "      <th>imdb_rating</th>\n",
       "    </tr>\n",
       "  </thead>\n",
       "  <tbody>\n",
       "    <tr>\n",
       "      <th>8</th>\n",
       "      <td>1</td>\n",
       "      <td>9</td>\n",
       "      <td>The One Where Underdog Gets Away</td>\n",
       "      <td>James Burrows</td>\n",
       "      <td>Jeff Greenstein &amp; Jeff Strauss</td>\n",
       "      <td>1994-11-17</td>\n",
       "      <td>23.1</td>\n",
       "      <td>8.2</td>\n",
       "    </tr>\n",
       "    <tr>\n",
       "      <th>133</th>\n",
       "      <td>6</td>\n",
       "      <td>13</td>\n",
       "      <td>The One with Rachel's Sister</td>\n",
       "      <td>Gary Halvorson</td>\n",
       "      <td>Story by : Seth KurlandTeleplay by : Sherry Bi...</td>\n",
       "      <td>2000-02-03</td>\n",
       "      <td>24.1</td>\n",
       "      <td>8.2</td>\n",
       "    </tr>\n",
       "  </tbody>\n",
       "</table>\n",
       "</div>"
      ],
      "text/plain": [
       "     season  episode                             title     directed_by  \\\n",
       "8         1        9  The One Where Underdog Gets Away   James Burrows   \n",
       "133       6       13      The One with Rachel's Sister  Gary Halvorson   \n",
       "\n",
       "                                            written_by    air_date  \\\n",
       "8                       Jeff Greenstein & Jeff Strauss  1994-11-17   \n",
       "133  Story by : Seth KurlandTeleplay by : Sherry Bi...  2000-02-03   \n",
       "\n",
       "     us_views_millions  imdb_rating  \n",
       "8                 23.1          8.2  \n",
       "133               24.1          8.2  "
      ]
     },
     "execution_count": 4,
     "metadata": {},
     "output_type": "execute_result"
    }
   ],
   "source": [
    "episodes = pd.read_csv((\"https://raw.githubusercontent.com/rfordatascience/tidytuesday/master/data/2020/2020-09-08/friends_info.csv\"))\n",
    "episodes.sample(2)"
   ]
  },
  {
   "cell_type": "code",
   "execution_count": 5,
   "metadata": {},
   "outputs": [],
   "source": [
    "# 6 Main Character Names\n",
    "main_character_names = [\"Ross Geller\", \"Monica Geller\", \"Phoebe Buffay\", \"Chandler Bing\", \"Joey Tribbiani\", \"Rachel Green\"]\n",
    "\n",
    "#Filters Out Non Dialogue Rows\n",
    "all_dialogue = dialogue[~dialogue[\"speaker\"].isin([\"Scene Directions\", \"#ALL#\", \"NA\"])]\n",
    "\n",
    "#Indexs of  MAIN CHARACTER, OTHER CHARACTER, and EXCLAMATORY Dialogue\n",
    "dialogue_mc_indexs = all_dialogue[\"speaker\"].isin(main_character_names)\n",
    "dialogue_oc_indexs = ~all_dialogue[\"speaker\"].isin(main_character_names)\n",
    "dialogue_exclamatory_indexs = all_dialogue[\"text\"].str.contains(r'[A-Z]{2,}') | all_dialogue[\"text\"].str.contains(r'!')"
   ]
  },
  {
   "cell_type": "markdown",
   "metadata": {},
   "source": [
    "# <span style=\"color:#42a2d6;\">__4. Data Processing__</span>\n",
    "#### In this section, we use regex, pivoting, filtering, and joining to create a dataframe with both Target Variables (rating, viewership by episode) as well as character and episode specific verbal occurances, both exclamatory and overall.\n",
    "\n",
    "#### <span style=\"color:#42a216;\"> NOTE: The Following data is implied to be constructed on a per episode basis (although in section 2, per episode and character is temporarally used, it is later pivoted into this form) </span>"
   ]
  },
  {
   "cell_type": "markdown",
   "metadata": {},
   "source": [
    "### Functions For Later Use:"
   ]
  },
  {
   "cell_type": "code",
   "execution_count": 382,
   "metadata": {},
   "outputs": [],
   "source": [
    "def sum_size(x):\n",
    "    return x.str.len().sum()\n",
    "\n",
    "def normalize_column(x):\n",
    "    min_value_1 = min(x)\n",
    "    max_value_1 = max(x)\n",
    "    normalized_values_1 = (x - min_value_1) / (max_value_1 - min_value_1)\n",
    "    return normalized_values_1  \n",
    "\n",
    "def z_normalize_column(x):\n",
    "    series_mean = x.mean()\n",
    "    series_std = x.std()\n",
    "    normalized_series = (x - series_mean) / series_std\n",
    "    return normalized_series\n",
    "    "
   ]
  },
  {
   "cell_type": "markdown",
   "metadata": {},
   "source": [
    "### Processing 1/4: Episode Total Exclam/Dialogue Occurances (+Total Other Character Exclam/Dialogue)"
   ]
  },
  {
   "cell_type": "code",
   "execution_count": 7,
   "metadata": {},
   "outputs": [
    {
     "data": {
      "text/html": [
       "<div>\n",
       "<style scoped>\n",
       "    .dataframe tbody tr th:only-of-type {\n",
       "        vertical-align: middle;\n",
       "    }\n",
       "\n",
       "    .dataframe tbody tr th {\n",
       "        vertical-align: top;\n",
       "    }\n",
       "\n",
       "    .dataframe thead th {\n",
       "        text-align: right;\n",
       "    }\n",
       "</style>\n",
       "<table border=\"1\" class=\"dataframe\">\n",
       "  <thead>\n",
       "    <tr style=\"text-align: right;\">\n",
       "      <th></th>\n",
       "      <th>season</th>\n",
       "      <th>episode</th>\n",
       "    </tr>\n",
       "  </thead>\n",
       "  <tbody>\n",
       "    <tr>\n",
       "      <th>0</th>\n",
       "      <td>1</td>\n",
       "      <td>1</td>\n",
       "    </tr>\n",
       "    <tr>\n",
       "      <th>1</th>\n",
       "      <td>1</td>\n",
       "      <td>2</td>\n",
       "    </tr>\n",
       "  </tbody>\n",
       "</table>\n",
       "</div>"
      ],
      "text/plain": [
       "   season  episode\n",
       "0       1        1\n",
       "1       1        2"
      ]
     },
     "execution_count": 7,
     "metadata": {},
     "output_type": "execute_result"
    }
   ],
   "source": [
    "#Creates A Row For Every Episode\n",
    "jt_1 = all_dialogue.groupby([\"season\", \"episode\"]).agg(\"first\").reset_index().drop(columns=[\"scene\", \"utterance\", \"speaker\", \"text\"])\n",
    "jt_1.head(2)"
   ]
  },
  {
   "cell_type": "code",
   "execution_count": 8,
   "metadata": {},
   "outputs": [
    {
     "data": {
      "text/html": [
       "<div>\n",
       "<style scoped>\n",
       "    .dataframe tbody tr th:only-of-type {\n",
       "        vertical-align: middle;\n",
       "    }\n",
       "\n",
       "    .dataframe tbody tr th {\n",
       "        vertical-align: top;\n",
       "    }\n",
       "\n",
       "    .dataframe thead th {\n",
       "        text-align: right;\n",
       "    }\n",
       "</style>\n",
       "<table border=\"1\" class=\"dataframe\">\n",
       "  <thead>\n",
       "    <tr style=\"text-align: right;\">\n",
       "      <th></th>\n",
       "      <th>season</th>\n",
       "      <th>episode</th>\n",
       "      <th>total_lines</th>\n",
       "      <th>total_speakers</th>\n",
       "    </tr>\n",
       "  </thead>\n",
       "  <tbody>\n",
       "    <tr>\n",
       "      <th>0</th>\n",
       "      <td>1</td>\n",
       "      <td>1</td>\n",
       "      <td>16876</td>\n",
       "      <td>11</td>\n",
       "    </tr>\n",
       "    <tr>\n",
       "      <th>1</th>\n",
       "      <td>1</td>\n",
       "      <td>2</td>\n",
       "      <td>12249</td>\n",
       "      <td>14</td>\n",
       "    </tr>\n",
       "    <tr>\n",
       "      <th>2</th>\n",
       "      <td>1</td>\n",
       "      <td>3</td>\n",
       "      <td>12070</td>\n",
       "      <td>10</td>\n",
       "    </tr>\n",
       "  </tbody>\n",
       "</table>\n",
       "</div>"
      ],
      "text/plain": [
       "   season  episode  total_lines  total_speakers\n",
       "0       1        1        16876              11\n",
       "1       1        2        12249              14\n",
       "2       1        3        12070              10"
      ]
     },
     "execution_count": 8,
     "metadata": {},
     "output_type": "execute_result"
    }
   ],
   "source": [
    "#Groups All Dialogue By Episode\n",
    "gp = all_dialogue.groupby([\"season\", \"episode\"])\n",
    "\n",
    "#Adding Total Words In Episode:\n",
    "#jt_1 = pd.merge(jt_1, gp[\"text\"].size().reset_index(name=\"total_words\"))\n",
    "\n",
    "#Adding Total Scenes In Episode:\n",
    "#jt_1 = pd.merge(jt_1, gp[\"scene\"].nunique().reset_index(name=\"total_scenes\"))\n",
    "\n",
    "#Finding Total Lines Said In Episode\n",
    "jt_1 = pd.merge(jt_1, gp[\"text\"].agg(sum_size).reset_index(name=\"total_lines\"))\n",
    "\n",
    "#Finding Total Speakers In Episode\n",
    "jt_1 = pd.merge(jt_1, gp[\"speaker\"].nunique().reset_index(name=\"total_speakers\"))\n",
    "\n",
    "jt_1.head(3)"
   ]
  },
  {
   "cell_type": "code",
   "execution_count": 9,
   "metadata": {},
   "outputs": [
    {
     "data": {
      "text/html": [
       "<div>\n",
       "<style scoped>\n",
       "    .dataframe tbody tr th:only-of-type {\n",
       "        vertical-align: middle;\n",
       "    }\n",
       "\n",
       "    .dataframe tbody tr th {\n",
       "        vertical-align: top;\n",
       "    }\n",
       "\n",
       "    .dataframe thead th {\n",
       "        text-align: right;\n",
       "    }\n",
       "</style>\n",
       "<table border=\"1\" class=\"dataframe\">\n",
       "  <thead>\n",
       "    <tr style=\"text-align: right;\">\n",
       "      <th></th>\n",
       "      <th>season</th>\n",
       "      <th>episode</th>\n",
       "      <th>total_lines</th>\n",
       "      <th>total_speakers</th>\n",
       "      <th>oc_lines</th>\n",
       "      <th>oc_exclam</th>\n",
       "    </tr>\n",
       "  </thead>\n",
       "  <tbody>\n",
       "    <tr>\n",
       "      <th>0</th>\n",
       "      <td>1</td>\n",
       "      <td>1</td>\n",
       "      <td>16876</td>\n",
       "      <td>11</td>\n",
       "      <td>27</td>\n",
       "      <td>5</td>\n",
       "    </tr>\n",
       "    <tr>\n",
       "      <th>1</th>\n",
       "      <td>1</td>\n",
       "      <td>2</td>\n",
       "      <td>12249</td>\n",
       "      <td>14</td>\n",
       "      <td>69</td>\n",
       "      <td>19</td>\n",
       "    </tr>\n",
       "    <tr>\n",
       "      <th>2</th>\n",
       "      <td>1</td>\n",
       "      <td>3</td>\n",
       "      <td>12070</td>\n",
       "      <td>10</td>\n",
       "      <td>24</td>\n",
       "      <td>3</td>\n",
       "    </tr>\n",
       "  </tbody>\n",
       "</table>\n",
       "</div>"
      ],
      "text/plain": [
       "   season  episode  total_lines  total_speakers  oc_lines  oc_exclam\n",
       "0       1        1        16876              11        27          5\n",
       "1       1        2        12249              14        69         19\n",
       "2       1        3        12070              10        24          3"
      ]
     },
     "execution_count": 9,
     "metadata": {},
     "output_type": "execute_result"
    }
   ],
   "source": [
    "\n",
    "#Grouped All Non-Main Character Dialogue By Episode\n",
    "gp = all_dialogue[dialogue_oc_indexs].groupby([\"season\", \"episode\"])\n",
    "\n",
    "\n",
    "#Adding Total Scenes By NON-MAIN characters\",\n",
    "#jt_1 = pd.merge(jt_1, gp[\"scene\"].nunique().reset_index(name=\"oc_scenes\"))\n",
    "\n",
    "# Finding Collective Lines Of Dialogue, By Non-Main Characters\n",
    "jt_1 = pd.merge(jt_1, gp[\"text\"].size().reset_index(name=\"oc_lines\"))\n",
    "\n",
    "#Grouped All Non-Main Character Exclamatory Dialogue By Episode\n",
    "gp = all_dialogue[dialogue_oc_indexs & dialogue_exclamatory_indexs].groupby([\"season\", \"episode\"])\n",
    "\n",
    "# Finding Total Exclamatory Lines By Non Main Characters\n",
    "jt_1 = pd.merge(jt_1, gp[\"text\"].size().reset_index(name=\"oc_exclam\"))\n",
    "\n",
    "jt_1.head(3)"
   ]
  },
  {
   "cell_type": "markdown",
   "metadata": {},
   "source": [
    "### Processing 2/4: Individual Main Character's Exclam/Dialogue:"
   ]
  },
  {
   "cell_type": "code",
   "execution_count": 10,
   "metadata": {},
   "outputs": [
    {
     "data": {
      "text/html": [
       "<div>\n",
       "<style scoped>\n",
       "    .dataframe tbody tr th:only-of-type {\n",
       "        vertical-align: middle;\n",
       "    }\n",
       "\n",
       "    .dataframe tbody tr th {\n",
       "        vertical-align: top;\n",
       "    }\n",
       "\n",
       "    .dataframe thead th {\n",
       "        text-align: right;\n",
       "    }\n",
       "</style>\n",
       "<table border=\"1\" class=\"dataframe\">\n",
       "  <thead>\n",
       "    <tr style=\"text-align: right;\">\n",
       "      <th></th>\n",
       "      <th>season</th>\n",
       "      <th>episode</th>\n",
       "      <th>speaker</th>\n",
       "    </tr>\n",
       "  </thead>\n",
       "  <tbody>\n",
       "    <tr>\n",
       "      <th>0</th>\n",
       "      <td>1</td>\n",
       "      <td>1</td>\n",
       "      <td>Chandler Bing</td>\n",
       "    </tr>\n",
       "    <tr>\n",
       "      <th>1</th>\n",
       "      <td>1</td>\n",
       "      <td>1</td>\n",
       "      <td>Joey Tribbiani</td>\n",
       "    </tr>\n",
       "    <tr>\n",
       "      <th>2</th>\n",
       "      <td>1</td>\n",
       "      <td>1</td>\n",
       "      <td>Monica Geller</td>\n",
       "    </tr>\n",
       "  </tbody>\n",
       "</table>\n",
       "</div>"
      ],
      "text/plain": [
       "   season  episode         speaker\n",
       "0       1        1   Chandler Bing\n",
       "1       1        1  Joey Tribbiani\n",
       "2       1        1   Monica Geller"
      ]
     },
     "execution_count": 10,
     "metadata": {},
     "output_type": "execute_result"
    }
   ],
   "source": [
    "#Creates A Row, For Every Episode, For Every Main Character\n",
    "jt_2 = all_dialogue[dialogue_mc_indexs].groupby([\"season\", \"episode\", \"speaker\"]).agg(\"first\").reset_index().drop(columns=[\"scene\", \"utterance\", \"text\"])\n",
    "jt_2.head(3)"
   ]
  },
  {
   "cell_type": "code",
   "execution_count": 11,
   "metadata": {},
   "outputs": [
    {
     "data": {
      "text/html": [
       "<div>\n",
       "<style scoped>\n",
       "    .dataframe tbody tr th:only-of-type {\n",
       "        vertical-align: middle;\n",
       "    }\n",
       "\n",
       "    .dataframe tbody tr th {\n",
       "        vertical-align: top;\n",
       "    }\n",
       "\n",
       "    .dataframe thead th {\n",
       "        text-align: right;\n",
       "    }\n",
       "</style>\n",
       "<table border=\"1\" class=\"dataframe\">\n",
       "  <thead>\n",
       "    <tr style=\"text-align: right;\">\n",
       "      <th></th>\n",
       "      <th>season</th>\n",
       "      <th>episode</th>\n",
       "      <th>speaker</th>\n",
       "      <th>lines</th>\n",
       "      <th>exclam_lines</th>\n",
       "    </tr>\n",
       "  </thead>\n",
       "  <tbody>\n",
       "    <tr>\n",
       "      <th>0</th>\n",
       "      <td>1</td>\n",
       "      <td>1</td>\n",
       "      <td>Chandler Bing</td>\n",
       "      <td>39</td>\n",
       "      <td>8</td>\n",
       "    </tr>\n",
       "    <tr>\n",
       "      <th>1</th>\n",
       "      <td>1</td>\n",
       "      <td>1</td>\n",
       "      <td>Joey Tribbiani</td>\n",
       "      <td>39</td>\n",
       "      <td>11</td>\n",
       "    </tr>\n",
       "    <tr>\n",
       "      <th>2</th>\n",
       "      <td>1</td>\n",
       "      <td>1</td>\n",
       "      <td>Monica Geller</td>\n",
       "      <td>73</td>\n",
       "      <td>20</td>\n",
       "    </tr>\n",
       "  </tbody>\n",
       "</table>\n",
       "</div>"
      ],
      "text/plain": [
       "   season  episode         speaker  lines  exclam_lines\n",
       "0       1        1   Chandler Bing     39             8\n",
       "1       1        1  Joey Tribbiani     39            11\n",
       "2       1        1   Monica Geller     73            20"
      ]
     },
     "execution_count": 11,
     "metadata": {},
     "output_type": "execute_result"
    }
   ],
   "source": [
    "#Groups All Main Character Dialogue, By Episode, Speaker\n",
    "gp = all_dialogue[dialogue_mc_indexs].groupby([\"season\", \"episode\", \"speaker\"])\n",
    "\n",
    "#Finding Total Lines Per Main Character\n",
    "jt_2 = pd.merge(jt_2, gp[\"text\"].size().reset_index(name=\"lines\"))\n",
    "\n",
    "#Adding Total Scenes Per Main Character:\n",
    "#jt_2 = pd.merge(jt_2, gp[\"scene\"].nunique().reset_index(name=\"scene\"))\n",
    "\n",
    "#Grouped Data (All Main Character Exclamatory Lines, By Episode, Speaker)\n",
    "gp = all_dialogue[dialogue_mc_indexs & dialogue_exclamatory_indexs].groupby([\"season\", \"episode\", \"speaker\"])\n",
    "\n",
    "#Adding Total Exclamatory Lines By Main Characters\n",
    "jt_2 = pd.merge(jt_2, gp[\"text\"].size().reset_index(name=\"exclam_lines\"))\n",
    "\n",
    "\n",
    "jt_2.head(3)"
   ]
  },
  {
   "cell_type": "code",
   "execution_count": 12,
   "metadata": {},
   "outputs": [
    {
     "data": {
      "text/html": [
       "<div>\n",
       "<style scoped>\n",
       "    .dataframe tbody tr th:only-of-type {\n",
       "        vertical-align: middle;\n",
       "    }\n",
       "\n",
       "    .dataframe tbody tr th {\n",
       "        vertical-align: top;\n",
       "    }\n",
       "\n",
       "    .dataframe thead th {\n",
       "        text-align: right;\n",
       "    }\n",
       "</style>\n",
       "<table border=\"1\" class=\"dataframe\">\n",
       "  <thead>\n",
       "    <tr style=\"text-align: right;\">\n",
       "      <th></th>\n",
       "      <th>season</th>\n",
       "      <th>episode</th>\n",
       "      <th>lines_Chandler Bing</th>\n",
       "      <th>lines_Joey Tribbiani</th>\n",
       "      <th>lines_Monica Geller</th>\n",
       "      <th>lines_Phoebe Buffay</th>\n",
       "      <th>lines_Rachel Green</th>\n",
       "      <th>lines_Ross Geller</th>\n",
       "      <th>exclam_lines_Chandler Bing</th>\n",
       "      <th>exclam_lines_Joey Tribbiani</th>\n",
       "      <th>exclam_lines_Monica Geller</th>\n",
       "      <th>exclam_lines_Phoebe Buffay</th>\n",
       "      <th>exclam_lines_Rachel Green</th>\n",
       "      <th>exclam_lines_Ross Geller</th>\n",
       "    </tr>\n",
       "  </thead>\n",
       "  <tbody>\n",
       "    <tr>\n",
       "      <th>0</th>\n",
       "      <td>1</td>\n",
       "      <td>1</td>\n",
       "      <td>39.0</td>\n",
       "      <td>39.0</td>\n",
       "      <td>73.0</td>\n",
       "      <td>19.0</td>\n",
       "      <td>48.0</td>\n",
       "      <td>47.0</td>\n",
       "      <td>8.0</td>\n",
       "      <td>11.0</td>\n",
       "      <td>20.0</td>\n",
       "      <td>5.0</td>\n",
       "      <td>15.0</td>\n",
       "      <td>8.0</td>\n",
       "    </tr>\n",
       "    <tr>\n",
       "      <th>1</th>\n",
       "      <td>1</td>\n",
       "      <td>2</td>\n",
       "      <td>16.0</td>\n",
       "      <td>8.0</td>\n",
       "      <td>28.0</td>\n",
       "      <td>14.0</td>\n",
       "      <td>38.0</td>\n",
       "      <td>68.0</td>\n",
       "      <td>2.0</td>\n",
       "      <td>1.0</td>\n",
       "      <td>5.0</td>\n",
       "      <td>9.0</td>\n",
       "      <td>8.0</td>\n",
       "      <td>10.0</td>\n",
       "    </tr>\n",
       "  </tbody>\n",
       "</table>\n",
       "</div>"
      ],
      "text/plain": [
       "   season  episode  lines_Chandler Bing  lines_Joey Tribbiani  \\\n",
       "0       1        1                 39.0                  39.0   \n",
       "1       1        2                 16.0                   8.0   \n",
       "\n",
       "   lines_Monica Geller  lines_Phoebe Buffay  lines_Rachel Green  \\\n",
       "0                 73.0                 19.0                48.0   \n",
       "1                 28.0                 14.0                38.0   \n",
       "\n",
       "   lines_Ross Geller  exclam_lines_Chandler Bing  exclam_lines_Joey Tribbiani  \\\n",
       "0               47.0                         8.0                         11.0   \n",
       "1               68.0                         2.0                          1.0   \n",
       "\n",
       "   exclam_lines_Monica Geller  exclam_lines_Phoebe Buffay  \\\n",
       "0                        20.0                         5.0   \n",
       "1                         5.0                         9.0   \n",
       "\n",
       "   exclam_lines_Rachel Green  exclam_lines_Ross Geller  \n",
       "0                       15.0                       8.0  \n",
       "1                        8.0                      10.0  "
      ]
     },
     "execution_count": 12,
     "metadata": {},
     "output_type": "execute_result"
    }
   ],
   "source": [
    "\n",
    "#Pivoting Table (To Ensure One Row Per Episode)\n",
    "jt_2 = jt_2.pivot(index=[\"season\", \"episode\"], columns=\"speaker\", values=[\"lines\", #\"scene\", \n",
    "                                                                          \"exclam_lines\"]).reset_index(inplace=False)\n",
    "\n",
    "#Renaming Columns + Reseting Index\n",
    "jt_2.columns = ['_'.join(map(str, col)).strip() for col in jt_2.columns.values]\n",
    "jt_2.reset_index(inplace=False)\n",
    "jt_2.rename(columns={\"season_\":\"season\", \"episode_\":\"episode\"}, inplace=True)\n",
    "\n",
    "jt_2.head(2)"
   ]
  },
  {
   "cell_type": "markdown",
   "metadata": {},
   "source": [
    "### Processing 3/4: Episode Review/Viewership Info (Target Variables)"
   ]
  },
  {
   "cell_type": "code",
   "execution_count": 13,
   "metadata": {},
   "outputs": [
    {
     "data": {
      "text/html": [
       "<div>\n",
       "<style scoped>\n",
       "    .dataframe tbody tr th:only-of-type {\n",
       "        vertical-align: middle;\n",
       "    }\n",
       "\n",
       "    .dataframe tbody tr th {\n",
       "        vertical-align: top;\n",
       "    }\n",
       "\n",
       "    .dataframe thead th {\n",
       "        text-align: right;\n",
       "    }\n",
       "</style>\n",
       "<table border=\"1\" class=\"dataframe\">\n",
       "  <thead>\n",
       "    <tr style=\"text-align: right;\">\n",
       "      <th></th>\n",
       "      <th>season</th>\n",
       "      <th>episode</th>\n",
       "      <th>us_views_millions</th>\n",
       "      <th>imdb_rating</th>\n",
       "    </tr>\n",
       "  </thead>\n",
       "  <tbody>\n",
       "    <tr>\n",
       "      <th>0</th>\n",
       "      <td>1</td>\n",
       "      <td>1</td>\n",
       "      <td>21.5</td>\n",
       "      <td>8.3</td>\n",
       "    </tr>\n",
       "    <tr>\n",
       "      <th>1</th>\n",
       "      <td>1</td>\n",
       "      <td>2</td>\n",
       "      <td>20.2</td>\n",
       "      <td>8.1</td>\n",
       "    </tr>\n",
       "    <tr>\n",
       "      <th>2</th>\n",
       "      <td>1</td>\n",
       "      <td>3</td>\n",
       "      <td>19.5</td>\n",
       "      <td>8.2</td>\n",
       "    </tr>\n",
       "  </tbody>\n",
       "</table>\n",
       "</div>"
      ],
      "text/plain": [
       "   season  episode  us_views_millions  imdb_rating\n",
       "0       1        1               21.5          8.3\n",
       "1       1        2               20.2          8.1\n",
       "2       1        3               19.5          8.2"
      ]
     },
     "execution_count": 13,
     "metadata": {},
     "output_type": "execute_result"
    }
   ],
   "source": [
    "#Taking Existing Episode df and dropping certain attributes\n",
    "jt_3 = episodes.drop(columns=[\"title\", \"directed_by\", \"written_by\", \"air_date\"])\n",
    "jt_3.head(3)"
   ]
  },
  {
   "cell_type": "markdown",
   "metadata": {},
   "source": [
    "### Processing 4/4: Joining Tables + Summary"
   ]
  },
  {
   "cell_type": "code",
   "execution_count": 14,
   "metadata": {},
   "outputs": [
    {
     "data": {
      "text/html": [
       "<div>\n",
       "<style scoped>\n",
       "    .dataframe tbody tr th:only-of-type {\n",
       "        vertical-align: middle;\n",
       "    }\n",
       "\n",
       "    .dataframe tbody tr th {\n",
       "        vertical-align: top;\n",
       "    }\n",
       "\n",
       "    .dataframe thead th {\n",
       "        text-align: right;\n",
       "    }\n",
       "</style>\n",
       "<table border=\"1\" class=\"dataframe\">\n",
       "  <thead>\n",
       "    <tr style=\"text-align: right;\">\n",
       "      <th></th>\n",
       "      <th>season</th>\n",
       "      <th>episode</th>\n",
       "      <th>total_lines</th>\n",
       "      <th>total_speakers</th>\n",
       "      <th>oc_lines</th>\n",
       "      <th>oc_exclam</th>\n",
       "      <th>lines_Chandler Bing</th>\n",
       "      <th>lines_Joey Tribbiani</th>\n",
       "      <th>lines_Monica Geller</th>\n",
       "      <th>lines_Phoebe Buffay</th>\n",
       "      <th>...</th>\n",
       "      <th>lines_Ross Geller</th>\n",
       "      <th>exclam_lines_Chandler Bing</th>\n",
       "      <th>exclam_lines_Joey Tribbiani</th>\n",
       "      <th>exclam_lines_Monica Geller</th>\n",
       "      <th>exclam_lines_Phoebe Buffay</th>\n",
       "      <th>exclam_lines_Rachel Green</th>\n",
       "      <th>exclam_lines_Ross Geller</th>\n",
       "      <th>us_views_millions</th>\n",
       "      <th>imdb_rating</th>\n",
       "      <th>intercept</th>\n",
       "    </tr>\n",
       "  </thead>\n",
       "  <tbody>\n",
       "    <tr>\n",
       "      <th>0</th>\n",
       "      <td>1</td>\n",
       "      <td>1</td>\n",
       "      <td>16876</td>\n",
       "      <td>11</td>\n",
       "      <td>27</td>\n",
       "      <td>5</td>\n",
       "      <td>39.0</td>\n",
       "      <td>39.0</td>\n",
       "      <td>73.0</td>\n",
       "      <td>19.0</td>\n",
       "      <td>...</td>\n",
       "      <td>47.0</td>\n",
       "      <td>8.0</td>\n",
       "      <td>11.0</td>\n",
       "      <td>20.0</td>\n",
       "      <td>5.0</td>\n",
       "      <td>15.0</td>\n",
       "      <td>8.0</td>\n",
       "      <td>21.5</td>\n",
       "      <td>8.3</td>\n",
       "      <td>1</td>\n",
       "    </tr>\n",
       "    <tr>\n",
       "      <th>1</th>\n",
       "      <td>1</td>\n",
       "      <td>2</td>\n",
       "      <td>12249</td>\n",
       "      <td>14</td>\n",
       "      <td>69</td>\n",
       "      <td>19</td>\n",
       "      <td>16.0</td>\n",
       "      <td>8.0</td>\n",
       "      <td>28.0</td>\n",
       "      <td>14.0</td>\n",
       "      <td>...</td>\n",
       "      <td>68.0</td>\n",
       "      <td>2.0</td>\n",
       "      <td>1.0</td>\n",
       "      <td>5.0</td>\n",
       "      <td>9.0</td>\n",
       "      <td>8.0</td>\n",
       "      <td>10.0</td>\n",
       "      <td>20.2</td>\n",
       "      <td>8.1</td>\n",
       "      <td>1</td>\n",
       "    </tr>\n",
       "  </tbody>\n",
       "</table>\n",
       "<p>2 rows × 21 columns</p>\n",
       "</div>"
      ],
      "text/plain": [
       "   season  episode  total_lines  total_speakers  oc_lines  oc_exclam  \\\n",
       "0       1        1        16876              11        27          5   \n",
       "1       1        2        12249              14        69         19   \n",
       "\n",
       "   lines_Chandler Bing  lines_Joey Tribbiani  lines_Monica Geller  \\\n",
       "0                 39.0                  39.0                 73.0   \n",
       "1                 16.0                   8.0                 28.0   \n",
       "\n",
       "   lines_Phoebe Buffay  ...  lines_Ross Geller  exclam_lines_Chandler Bing  \\\n",
       "0                 19.0  ...               47.0                         8.0   \n",
       "1                 14.0  ...               68.0                         2.0   \n",
       "\n",
       "   exclam_lines_Joey Tribbiani  exclam_lines_Monica Geller  \\\n",
       "0                         11.0                        20.0   \n",
       "1                          1.0                         5.0   \n",
       "\n",
       "   exclam_lines_Phoebe Buffay  exclam_lines_Rachel Green  \\\n",
       "0                         5.0                       15.0   \n",
       "1                         9.0                        8.0   \n",
       "\n",
       "   exclam_lines_Ross Geller  us_views_millions  imdb_rating  intercept  \n",
       "0                       8.0               21.5          8.3          1  \n",
       "1                      10.0               20.2          8.1          1  \n",
       "\n",
       "[2 rows x 21 columns]"
      ]
     },
     "execution_count": 14,
     "metadata": {},
     "output_type": "execute_result"
    }
   ],
   "source": [
    "joined_table_final = pd.merge(pd.merge(jt_1, jt_2, on=[\"season\", \"episode\"]), jt_3, on=[\"season\", \"episode\"])\n",
    "joined_table_final = joined_table_final.dropna().sort_values(by=[\"season\", \"episode\"])\n",
    "joined_table_final[\"intercept\"] = 1\n",
    "joined_table_final.head(2)"
   ]
  },
  {
   "cell_type": "markdown",
   "metadata": {},
   "source": [
    "# <span style=\"color:#42a2d6;\">__5. Inference Task__</span>\n",
    "\n",
    "To start, we wanted to confirm that a correlation in fact exists between overall use of exclamatory speech and IMDB rating and VIEWERSHIP before we dive into character specific impacts. To do this, we first confirm using bootstrapping, and a confidence interval that an impact occurs, from which we hope to show that at a general level, a correlation occurs."
   ]
  },
  {
   "cell_type": "code",
   "execution_count": 19,
   "metadata": {},
   "outputs": [
    {
     "name": "stdout",
     "output_type": "stream",
     "text": [
      "On average, episodes with more exclamation have about 0.18 higher imdb ratings and -2.12 million more views views.\n",
      "The mean difference between ratings is on a 95% confidence interval of being in the range(0.07, 0.28)\n",
      "The mean difference between US viewership in the millions is on a 95% confidence interval of being in the range(-3.49, -0.84)\n"
     ]
    }
   ],
   "source": [
    "# I want to verify that use of exclamatory speech really does impact episode IMDb rating and US viewership \n",
    "\n",
    "# Resampling import to use in bootstrapping \n",
    "from sklearn.utils import resample\n",
    "\n",
    "# Combining columns with exclamation\n",
    "exclam_cols = ['exclam_lines_Chandler Bing','exclam_lines_Joey Tribbiani','exclam_lines_Monica Geller','exclam_lines_Phoebe Buffay','exclam_lines_Rachel Green','exclam_lines_Ross Geller']\n",
    "exclam = joined_table_final['oc_exclam'] \n",
    "for col_name in exclam_cols:\n",
    "    exclam = exclam + joined_table_final.loc[:,col_name]\n",
    "\n",
    "# Creates new dataframe with the desired columns (rating and # of exclamations)\n",
    "df_exclam = pd.DataFrame({\"Exclamations\":exclam, \"Rating\":joined_table_final['imdb_rating'], \"Views\":joined_table_final['us_views_millions']})\n",
    "mean_exclam = np.round(np.mean(df_exclam), 0)\n",
    "df_exclam.fillna({'Exclamations':mean_exclam}, inplace=True)\n",
    "\n",
    "# Defines two populations: IMDb ratings with high exclamation use and ratings with low exclamation use \n",
    "df_exclam \n",
    "mean_exclamation = np.mean(df_exclam['Exclamations'])\n",
    "high_exclam_rating = df_exclam[df_exclam['Exclamations']>mean_exclamation]['Rating']\n",
    "low_exclam_rating = df_exclam[df_exclam['Exclamations']<=mean_exclamation]['Rating']\n",
    "high_exclam_views = df_exclam[df_exclam['Exclamations']>mean_exclamation]['Views']\n",
    "low_exclam_views = df_exclam[df_exclam['Exclamations']<=mean_exclamation]['Views']\n",
    "\n",
    "# Define number of bootstrap resamples\n",
    "n_resamples = 1000\n",
    "mean_diffs_rating = np.zeros(n_resamples)\n",
    "mean_diffs_views = np.zeros(n_resamples)\n",
    "\n",
    "# Bootstrapping procedure (add difference in each resampled mean to the list)\n",
    "for i in range(n_resamples):\n",
    "    ratings_high = resample(high_exclam_rating, replace=True)\n",
    "    ratings_low = resample(low_exclam_rating, replace=True) \n",
    "    views_high = resample(high_exclam_views, replace=True) \n",
    "    views_low = resample(low_exclam_views, replace=True) \n",
    "    mean_diffs_rating[i] = np.mean(ratings_high)-np.mean(ratings_low ) \n",
    "    mean_diffs_views[i] = np.mean(views_high)-np.mean(views_low)  \n",
    "    \n",
    "# Confidence intervals for mean rating and views with high vs. low \n",
    "ci_95_rating = np.percentile(mean_diffs_rating, [2.5, 97.5]) \n",
    "ci_95_views = np.percentile(mean_diffs_views, [2.5, 97.5]) \n",
    "\n",
    "# Mean  of mean differences between episodes with high vs. low exclamation samples created from bootstrapping   \n",
    "mean_difference_rating = round(np.mean(mean_diffs_rating),2)\n",
    "mean_difference_views = round(np.mean(mean_diffs_views),2)\n",
    "\n",
    "print(f'On average, episodes with more exclamation have about {mean_difference_rating} higher imdb ratings and {mean_difference_views} million change in views.')\n",
    "print(f'The mean difference between ratings is on a 95% confidence interval of being in the range({round(ci_95_rating[0],2)}, {round(ci_95_rating[1],2)})')\n",
    "print(f'The mean difference between US viewership in the millions is on a 95% confidence interval of being in the range({round(ci_95_views[0],2)}, {round(ci_95_views[1],2)})')"
   ]
  },
  {
   "cell_type": "markdown",
   "metadata": {},
   "source": [
    "Interestingly, at a 95% confidence interval, a greater frequency of exclamatory speech seems to increase imdb ratings, but significantly decrease viewership in the US! Based on these results, we can assume that high aggregate exclamatory speech has an strong impact on ratings and viewership. This is potentially because these episodes may have more fights where characters yell at each other, which the critics enjoy, but the fans do not. \n",
    "\n",
    "Now that we have confirmed proof of concept, we can move into specific features/characters having an impact"
   ]
  },
  {
   "cell_type": "markdown",
   "metadata": {},
   "source": [
    "# <span style=\"color:#42a2d6;\">__6. Prediction Task + Cross Validation__</span>\n",
    "\n",
    "#### Within This Section, through cross validating to find an ideal alpha, and a ridge Regression Model we create 2 models, one predicting a \"imdb_rating\" (rate), and the other a \"us_views_millions\" (view): whose accuracy, and coefficient weight placed on certain features will give us a better understanding of our ability to use exclamtory speech to predict these targets, as well as key attributes/features key to maximizing/minimizing them. \n",
    "\n",
    "#### <span style=\"color:#42a216;\">INTERESTING NOTE: we have left the numbered episode, season features within the model, becasue we were curious to see whether how far into a season (episode), or overall show (season) an episode was had any impact on its rating and views.  </span>"
   ]
  },
  {
   "cell_type": "code",
   "execution_count": 399,
   "metadata": {},
   "outputs": [],
   "source": [
    "# Separate features and target variables, and normalize\n",
    "x_cols = joined_table_final.drop([\"us_views_millions\", \"imdb_rating\"], axis=1)\n",
    "\n",
    "normalized_y_views = pd.Series(joined_table_final['us_views_millions'])\n",
    "normalized_y_rating = pd.Series(joined_table_final['imdb_rating'])\n",
    "\n",
    "# Split data used for VIEW, RATING prediction\n",
    "X_train_view, X_test_view, y_train_view, y_test_view = train_test_split(x_cols, normalized_y_views, test_size=0.10) \n",
    "X_train_rate, X_test_rate, y_train_rate, y_test_rate = train_test_split(x_cols, normalized_y_rating, test_size=0.10)\n",
    "\n",
    "# Scale data for VIEW, RATING prediction\n",
    "scaler = StandardScaler()\n",
    "X_train_view_scaled = scaler.fit_transform(X_train_view)\n",
    "X_test_view_scaled = scaler.transform(X_test_view)\n",
    "X_train_rate_scaled = scaler.fit_transform(X_train_rate)\n",
    "X_test_rate_scaled = scaler.transform(X_test_rate)\n"
   ]
  },
  {
   "cell_type": "code",
   "execution_count": 400,
   "metadata": {},
   "outputs": [
    {
     "name": "stdout",
     "output_type": "stream",
     "text": [
      "Ideal alpha for VIEW prediction: 31.01\n",
      "Ideal alpha for RATE prediction: 372.01\n"
     ]
    }
   ],
   "source": [
    "#Find Ideal Alpha For VIEW, RATING Prediction\n",
    "cv = RepeatedKFold(n_splits=10, n_repeats=3) \n",
    "model_ridge_cv_1 = RidgeCV(alphas=np.arange(0.01, 1000, 1), cv=cv, scoring='neg_mean_squared_error') \n",
    "model_ridge_cv_1.fit(X_train_view_scaled, y_train_view)\n",
    "view_ideal_alpha = model_ridge_cv_1.alpha_\n",
    "\n",
    "cv2 = RepeatedKFold(n_splits=10, n_repeats=3) \n",
    "model_ridge_cv_2 = RidgeCV(alphas=np.arange(0.01, 1000, 1), cv=cv2, scoring='neg_mean_squared_error') \n",
    "model_ridge_cv_2.fit(X_train_rate_scaled, y_train_rate)\n",
    "rate_ideal_alpha = model_ridge_cv_2.alpha_\n",
    "\n",
    "\n",
    "print(\"Ideal alpha for VIEW prediction:\", view_ideal_alpha)\n",
    "print(\"Ideal alpha for RATE prediction:\", rate_ideal_alpha)"
   ]
  },
  {
   "cell_type": "code",
   "execution_count": 401,
   "metadata": {},
   "outputs": [
    {
     "name": "stdout",
     "output_type": "stream",
     "text": [
      "MSE VIEW MODEL (TRAIN): 17.230472979661123 (fraction of mean 0.6877963867543141)\n",
      "MSE RATE MODEL (TRAIN): 0.15360424686572274 (fraction of mean 0.018162228124778648)\n"
     ]
    },
    {
     "data": {
      "image/png": "[encoded data removed]",
      "text/plain": [
       "<Figure size 640x480 with 1 Axes>"
      ]
     },
     "metadata": {},
     "output_type": "display_data"
    }
   ],
   "source": [
    "\n",
    "#Training Model With Optimal Alpha, for VIEW, RATE\n",
    "model_for_view = Ridge(alpha=view_ideal_alpha)\n",
    "model_for_view = model_for_view.fit(X_train_view_scaled, y_train_view)\n",
    "model_for_rate = Ridge(alpha=rate_ideal_alpha)\n",
    "model_for_rate = model_for_rate.fit(X_train_rate_scaled, y_train_rate)\n",
    "\n",
    "#Printing Error (TRAIN)\n",
    "e1 = sklm.mean_squared_error(y_train_view, model_for_view.predict(X_train_view_scaled))\n",
    "print(f'MSE VIEW MODEL (TRAIN): {e1} (fraction of mean {e1/normalized_y_views.mean()})')\n",
    "\n",
    "e2 = sklm.mean_squared_error(y_train_rate, model_for_rate.predict(X_train_rate_scaled))\n",
    "print(f'MSE RATE MODEL (TRAIN): {e2} (fraction of mean {e2/normalized_y_rating.mean()})')\n",
    "\n",
    "#Plotting Error: (ON ALL - SQUARED ERROR)\n",
    "view_error = pd.Series(((normalized_y_views - model_for_view.predict(scaler.fit_transform(x_cols)))**2)/normalized_y_views.mean())\n",
    "rate_error = pd.Series(((normalized_y_rating - model_for_rate.predict(scaler.fit_transform(x_cols)))**2)/normalized_y_rating.mean())\n",
    "\n",
    "view_error.plot( color='blue' , label='View Error', marker=\"o\")\n",
    "rate_error.plot( color='red', label='Rate Error', marker=\"*\")\n",
    "plt.xlabel('Episode Index')\n",
    "plt.ylabel('Errors Values')\n",
    "plt.title('Error Values Fraction Of Mean (Blue=View, Red=Rate)')\n",
    "plt.legend()\n",
    "plt.show()"
   ]
  },
  {
   "cell_type": "code",
   "execution_count": 410,
   "metadata": {},
   "outputs": [
    {
     "data": {
      "image/png": "[encoded data removed]",
      "text/plain": [
       "<Figure size 1500x600 with 1 Axes>"
      ]
     },
     "metadata": {},
     "output_type": "display_data"
    }
   ],
   "source": [
    "#Saving Coefficients:\n",
    "view_coefficients = pd.Series(model_for_view.coef_/model_for_view.coef_.sum(), index=X_train_rate.columns)\n",
    "rate_coefficients = pd.Series(model_for_rate.coef_/model_for_rate.coef_.sum(), index=X_train_rate.columns)\n",
    "\n",
    "#Ploting The Different Weights, Of Each Feature, For RATE, and VIEW\n",
    "plt.figure(figsize=(15, 6))\n",
    "view_coefficients.plot(kind='bar', color='blue' , label='View Coefficients')\n",
    "rate_coefficients.plot(kind='bar', color='red', label='Rate Coefficients')\n",
    "plt.xlabel('Features')\n",
    "plt.ylabel('Normalized Coefficient Values (scaled by sum of coefficients)')\n",
    "plt.title('Coefficient Values (Blue=View, Red=Rate)')\n",
    "plt.legend()\n",
    "plt.show()"
   ]
  },
  {
   "cell_type": "markdown",
   "metadata": {},
   "source": [
    "##### Test"
   ]
  },
  {
   "cell_type": "markdown",
   "metadata": {},
   "source": [
    "# <span style=\"color:#42a2d6;\">__7. Regression and Classification__</span>\n",
    "#### ...........SUMMARY TO BE ADDED........"
   ]
  },
  {
   "cell_type": "code",
   "execution_count": 395,
   "metadata": {},
   "outputs": [
    {
     "name": "stdout",
     "output_type": "stream",
     "text": [
      "              precision    recall  f1-score   support\n",
      "\n",
      "       False       0.53      0.42      0.47        19\n",
      "        True       0.61      0.71      0.65        24\n",
      "\n",
      "    accuracy                           0.58        43\n",
      "   macro avg       0.57      0.56      0.56        43\n",
      "weighted avg       0.57      0.58      0.57        43\n",
      "\n"
     ]
    },
    {
     "data": {
      "image/png": "[encoded data removed]",
      "text/plain": [
       "<Figure size 800x600 with 2 Axes>"
      ]
     },
     "metadata": {},
     "output_type": "display_data"
    }
   ],
   "source": [
    "#Normalizing Z Score\n",
    "normalized_y_views = z_normalize_column(pd.Series(joined_table_final['us_views_millions']))\n",
    "normalized_y_rating = z_normalize_column(pd.Series(joined_table_final['imdb_rating']))\n",
    "\n",
    "#Difference Of Z Scores\n",
    "views_subtract_rating = (normalized_y_rating - normalized_y_views > 0)\n",
    "\n",
    "X_train, X_test, y_train, y_test = train_test_split(x_cols, views_subtract_rating, test_size=0.2, random_state=42)\n",
    "\n",
    "\n",
    "#Making Model\n",
    "logistic_model = LogisticRegression(fit_intercept=True, solver= 'lbfgs', max_iter=10000)\n",
    "logistic_model.fit(X_train, y_train)\n",
    "\n",
    "test_output = logistic_model.predict(X_test)\n",
    "\n",
    "print(classification_report(y_test, test_output))\n",
    "\n",
    "\n",
    "# Compute the confusion matrix\n",
    "cm = confusion_matrix(y_test, test_output)\n",
    "\n",
    "# Plot the confusion matrix\n",
    "plt.figure(figsize=(8, 6))\n",
    "plt.imshow(cm, interpolation='nearest', cmap=plt.cm.Blues)\n",
    "plt.title('Confusion Matrix')\n",
    "plt.colorbar()\n",
    "\n",
    "# Adding the text labels\n",
    "classes = ['Better Views', 'Better Rating']\n",
    "tick_marks = np.arange(len(classes))\n",
    "plt.xticks(tick_marks, classes, rotation=45)\n",
    "plt.yticks(tick_marks, classes)\n",
    "\n",
    "# Labeling the plot\n",
    "thresh = cm.max() / 2. # for text color\n",
    "for i in range(cm.shape[0]):\n",
    "    for j in range(cm.shape[1]):\n",
    "        plt.text(j, i, format(cm[i, j], 'd'),\n",
    "                 ha=\"center\", va=\"center\",\n",
    "                 color=\"white\" if cm[i, j] > thresh else \"black\")  # text color\n",
    "\n",
    "plt.tight_layout()\n",
    "plt.ylabel('True label')\n",
    "plt.xlabel('Predicted label')\n",
    "plt.show()\n"
   ]
  },
  {
   "cell_type": "markdown",
   "metadata": {},
   "source": [
    "# <span style=\"color:#42a2d6;\">__8. Conclusions__</span>\n",
    "\n",
    "..... TO BE ADDED ......"
   ]
  }
 ],
 "metadata": {
  "kernelspec": {
   "display_name": "Python 3",
   "language": "python",
   "name": "python3"
  },
  "language_info": {
   "codemirror_mode": {
    "name": "ipython",
    "version": 3
   },
   "file_extension": ".py",
   "mimetype": "text/x-python",
   "name": "python",
   "nbconvert_exporter": "python",
   "pygments_lexer": "ipython3",
   "version": "3.11.1"
  }
 },
 "nbformat": 4,
 "nbformat_minor": 2
}
