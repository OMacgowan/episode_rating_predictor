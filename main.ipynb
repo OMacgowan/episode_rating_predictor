{
 "cells": [
  {
   "cell_type": "markdown",
   "metadata": {},
   "source": [
    "Imports:"
   ]
  },
  {
   "cell_type": "code",
   "execution_count": 2,
   "metadata": {},
   "outputs": [],
   "source": [
    "# !pip install pandas\n",
    "# !pip install numpy\n",
    "# !pip install matplotlib\n",
    "# !pip install scikit-learn\n",
    "import pandas as pd\n",
    "import numpy as np\n",
    "import matplotlib.pyplot as plt\n",
    "from sklearn import linear_model as lm\n",
    "from sklearn.model_selection import train_test_split\n",
    "from sklearn.metrics import accuracy_score\n",
    "from sklearn.tree import DecisionTreeClassifier\n",
    "from sklearn.ensemble import BaggingClassifier\n"
   ]
  },
  {
   "cell_type": "markdown",
   "metadata": {},
   "source": [
    "# Data Retrieval "
   ]
  },
  {
   "cell_type": "code",
   "execution_count": 9,
   "metadata": {},
   "outputs": [
    {
     "name": "stdout",
     "output_type": "stream",
     "text": [
      "Example Dialogue:\n"
     ]
    },
    {
     "data": {
      "text/html": [
       "<div>\n",
       "<style scoped>\n",
       "    .dataframe tbody tr th:only-of-type {\n",
       "        vertical-align: middle;\n",
       "    }\n",
       "\n",
       "    .dataframe tbody tr th {\n",
       "        vertical-align: top;\n",
       "    }\n",
       "\n",
       "    .dataframe thead th {\n",
       "        text-align: right;\n",
       "    }\n",
       "</style>\n",
       "<table border=\"1\" class=\"dataframe\">\n",
       "  <thead>\n",
       "    <tr style=\"text-align: right;\">\n",
       "      <th></th>\n",
       "      <th>text</th>\n",
       "      <th>speaker</th>\n",
       "      <th>season</th>\n",
       "      <th>episode</th>\n",
       "      <th>scene</th>\n",
       "      <th>utterance</th>\n",
       "    </tr>\n",
       "  </thead>\n",
       "  <tbody>\n",
       "    <tr>\n",
       "      <th>19978</th>\n",
       "      <td>Well, I'm so sorry. I thought I was leaving yo...</td>\n",
       "      <td>Phoebe Abbott</td>\n",
       "      <td>4</td>\n",
       "      <td>1</td>\n",
       "      <td>2</td>\n",
       "      <td>12</td>\n",
       "    </tr>\n",
       "    <tr>\n",
       "      <th>12076</th>\n",
       "      <td>Joey, a woman just stuck her tounge down my th...</td>\n",
       "      <td>Chandler Bing</td>\n",
       "      <td>2</td>\n",
       "      <td>22</td>\n",
       "      <td>5</td>\n",
       "      <td>6</td>\n",
       "    </tr>\n",
       "  </tbody>\n",
       "</table>\n",
       "</div>"
      ],
      "text/plain": [
       "                                                    text        speaker  \\\n",
       "19978  Well, I'm so sorry. I thought I was leaving yo...  Phoebe Abbott   \n",
       "12076  Joey, a woman just stuck her tounge down my th...  Chandler Bing   \n",
       "\n",
       "       season  episode  scene  utterance  \n",
       "19978       4        1      2         12  \n",
       "12076       2       22      5          6  "
      ]
     },
     "execution_count": 9,
     "metadata": {},
     "output_type": "execute_result"
    }
   ],
   "source": [
    "dialogue = pd.read_csv((\"https://raw.githubusercontent.com/\"\n",
    " \"rfordatascience/tidytuesday/master/data/\"\n",
    " \"2020/2020-09-08/friends.csv\"))\n",
    "\n",
    "print(\"Example Dialogue:\")\n",
    "dialogue.sample(4)\n"
   ]
  },
  {
   "cell_type": "code",
   "execution_count": 10,
   "metadata": {},
   "outputs": [
    {
     "name": "stdout",
     "output_type": "stream",
     "text": [
      "Example Episode:\n"
     ]
    },
    {
     "data": {
      "text/html": [
       "<div>\n",
       "<style scoped>\n",
       "    .dataframe tbody tr th:only-of-type {\n",
       "        vertical-align: middle;\n",
       "    }\n",
       "\n",
       "    .dataframe tbody tr th {\n",
       "        vertical-align: top;\n",
       "    }\n",
       "\n",
       "    .dataframe thead th {\n",
       "        text-align: right;\n",
       "    }\n",
       "</style>\n",
       "<table border=\"1\" class=\"dataframe\">\n",
       "  <thead>\n",
       "    <tr style=\"text-align: right;\">\n",
       "      <th></th>\n",
       "      <th>season</th>\n",
       "      <th>episode</th>\n",
       "      <th>title</th>\n",
       "      <th>directed_by</th>\n",
       "      <th>written_by</th>\n",
       "      <th>air_date</th>\n",
       "      <th>us_views_millions</th>\n",
       "      <th>imdb_rating</th>\n",
       "    </tr>\n",
       "  </thead>\n",
       "  <tbody>\n",
       "    <tr>\n",
       "      <th>164</th>\n",
       "      <td>7</td>\n",
       "      <td>19</td>\n",
       "      <td>The One with Ross and Monica's Cousin</td>\n",
       "      <td>Gary Halvorson</td>\n",
       "      <td>Andrew Reich &amp; Ted Cohen</td>\n",
       "      <td>2001-04-19</td>\n",
       "      <td>16.55</td>\n",
       "      <td>8.7</td>\n",
       "    </tr>\n",
       "    <tr>\n",
       "      <th>182</th>\n",
       "      <td>8</td>\n",
       "      <td>13</td>\n",
       "      <td>The One Where Chandler Takes a Bath</td>\n",
       "      <td>Ben Weiss</td>\n",
       "      <td>Vanessa McCarthy</td>\n",
       "      <td>2002-01-17</td>\n",
       "      <td>29.24</td>\n",
       "      <td>8.6</td>\n",
       "    </tr>\n",
       "  </tbody>\n",
       "</table>\n",
       "</div>"
      ],
      "text/plain": [
       "     season  episode                                  title     directed_by  \\\n",
       "164       7       19  The One with Ross and Monica's Cousin  Gary Halvorson   \n",
       "182       8       13    The One Where Chandler Takes a Bath       Ben Weiss   \n",
       "\n",
       "                   written_by    air_date  us_views_millions  imdb_rating  \n",
       "164  Andrew Reich & Ted Cohen  2001-04-19              16.55          8.7  \n",
       "182          Vanessa McCarthy  2002-01-17              29.24          8.6  "
      ]
     },
     "execution_count": 10,
     "metadata": {},
     "output_type": "execute_result"
    }
   ],
   "source": [
    "episodes = pd.read_csv((\"https://raw.githubusercontent.com/\"\n",
    " \"rfordatascience/tidytuesday/master/data/\"\n",
    " \"2020/2020-09-08/friends_info.csv\"))\n",
    "\n",
    "print(\"Example Episode:\")\n",
    "episodes.sample(4)"
   ]
  },
  {
   "cell_type": "markdown",
   "metadata": {},
   "source": [
    "# Inference Task"
   ]
  },
  {
   "cell_type": "code",
   "execution_count": 1,
   "metadata": {},
   "outputs": [],
   "source": [
    "# I want to verify that lots of exclamation changes episode IMDb rating \n",
    "\n",
    "# Resampling import to use in bootstrapping \n",
    "from sklearn.utils import resample\n",
    "\n",
    "# Two populations: IMDb ratings and Viewership \n",
    "df_regr = (master_list\n",
    "    .groupby(['episode', 'season'])\n",
    "    .agg({'Speaker_Exclaim': 'sum', 'Speaker_Exclaimed_Toward': 'sum', 'us_views_millions': 'mean', 'imdb_rating': 'mean'})\n",
    "    .reset_index()\n",
    ")\n",
    "mean_exclamation = np.mean(df['Speaker_Exclaim'])\n",
    "pop1 = df[df['Speaker_Exclaim']>mean_exclamation]['imdb_rating']\n",
    "pop2 = df['imdb_rating']\n",
    "\n",
    "# Define number of bootstrap resamples\n",
    "n_resamples = 1000\n",
    "mean_diffs = np.zeros(n_resamples)\n",
    "\n",
    "#  Bootstrapping procedure (add difference in each resample mean to the list)\n",
    "for i in range(n_resamples):\n",
    "    s1 = resample(pop1, replace=True)\n",
    "    s2 = resample(pop2, replace=True)\n",
    "    mean_diffs[i] = np.mean(s1)-np.mean(s2) \n",
    "    \n",
    "# Confidence interval \n",
    "ci_95 = np.percentile(mean_diffs, [2.5, 97.5]) \n",
    "\n",
    "# Mean Difference \n",
    "mean_difference = np.mean(mean_diffs)\n",
    "\n"
   ]
  }
 ],
 "metadata": {
  "kernelspec": {
   "display_name": "Python 3",
   "language": "python",
   "name": "python3"
  },
  "language_info": {
   "codemirror_mode": {
    "name": "ipython",
    "version": 3
   },
   "file_extension": ".py",
   "mimetype": "text/x-python",
   "name": "python",
   "nbconvert_exporter": "python",
   "pygments_lexer": "ipython3",
   "version": "3.11.1"
  }
 },
 "nbformat": 4,
 "nbformat_minor": 2
}
