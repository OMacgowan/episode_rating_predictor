{
 "cells": [
  {
   "cell_type": "markdown",
   "metadata": {},
   "source": [
    "Imports:"
   ]
  },
  {
   "cell_type": "code",
   "execution_count": 2,
   "metadata": {},
   "outputs": [],
   "source": [
    "# !pip install pandas\n",
    "# !pip install numpy\n",
    "# !pip install matplotlib\n",
    "# !pip install scikit-learn\n",
    "import pandas as pd\n",
    "import numpy as np\n",
    "import matplotlib as plt\n",
    "from sklearn import linear_model as lm\n"
   ]
  },
  {
   "cell_type": "code",
   "execution_count": null,
   "metadata": {},
   "outputs": [],
   "source": [
    "Data Retrieval"
   ]
  },
  {
   "cell_type": "code",
   "execution_count": 3,
   "metadata": {},
   "outputs": [
    {
     "name": "stdout",
     "output_type": "stream",
     "text": [
      "Example Dialogue:\n"
     ]
    },
    {
     "data": {
      "text/html": [
       "<div>\n",
       "<style scoped>\n",
       "    .dataframe tbody tr th:only-of-type {\n",
       "        vertical-align: middle;\n",
       "    }\n",
       "\n",
       "    .dataframe tbody tr th {\n",
       "        vertical-align: top;\n",
       "    }\n",
       "\n",
       "    .dataframe thead th {\n",
       "        text-align: right;\n",
       "    }\n",
       "</style>\n",
       "<table border=\"1\" class=\"dataframe\">\n",
       "  <thead>\n",
       "    <tr style=\"text-align: right;\">\n",
       "      <th></th>\n",
       "      <th>text</th>\n",
       "      <th>speaker</th>\n",
       "      <th>season</th>\n",
       "      <th>episode</th>\n",
       "      <th>scene</th>\n",
       "      <th>utterance</th>\n",
       "    </tr>\n",
       "  </thead>\n",
       "  <tbody>\n",
       "    <tr>\n",
       "      <th>49704</th>\n",
       "      <td>I paid to have this done.</td>\n",
       "      <td>Monica Geller</td>\n",
       "      <td>8</td>\n",
       "      <td>5</td>\n",
       "      <td>4</td>\n",
       "      <td>13</td>\n",
       "    </tr>\n",
       "    <tr>\n",
       "      <th>35710</th>\n",
       "      <td>Whoa-whoa-whoa, Phoebe you gotta take her! Y'k...</td>\n",
       "      <td>Monica Geller</td>\n",
       "      <td>6</td>\n",
       "      <td>6</td>\n",
       "      <td>11</td>\n",
       "      <td>8</td>\n",
       "    </tr>\n",
       "    <tr>\n",
       "      <th>48902</th>\n",
       "      <td>Okay, sorry. Yeah.</td>\n",
       "      <td>Phoebe Buffay</td>\n",
       "      <td>8</td>\n",
       "      <td>2</td>\n",
       "      <td>8</td>\n",
       "      <td>10</td>\n",
       "    </tr>\n",
       "    <tr>\n",
       "      <th>39676</th>\n",
       "      <td>That's your call.</td>\n",
       "      <td>Monica Geller</td>\n",
       "      <td>6</td>\n",
       "      <td>20</td>\n",
       "      <td>5</td>\n",
       "      <td>8</td>\n",
       "    </tr>\n",
       "  </tbody>\n",
       "</table>\n",
       "</div>"
      ],
      "text/plain": [
       "                                                    text        speaker  \\\n",
       "49704                          I paid to have this done.  Monica Geller   \n",
       "35710  Whoa-whoa-whoa, Phoebe you gotta take her! Y'k...  Monica Geller   \n",
       "48902                                 Okay, sorry. Yeah.  Phoebe Buffay   \n",
       "39676                                  That's your call.  Monica Geller   \n",
       "\n",
       "       season  episode  scene  utterance  \n",
       "49704       8        5      4         13  \n",
       "35710       6        6     11          8  \n",
       "48902       8        2      8         10  \n",
       "39676       6       20      5          8  "
      ]
     },
     "execution_count": 3,
     "metadata": {},
     "output_type": "execute_result"
    }
   ],
   "source": [
    "dialogue = pd.read_csv((\"https://raw.githubusercontent.com/\"\n",
    " \"rfordatascience/tidytuesday/master/data/\"\n",
    " \"2020/2020-09-08/friends.csv\"))\n",
    "\n",
    "print(\"Example Dialogue:\")\n",
    "dialogue.sample(4)\n"
   ]
  },
  {
   "cell_type": "code",
   "execution_count": 4,
   "metadata": {},
   "outputs": [
    {
     "name": "stdout",
     "output_type": "stream",
     "text": [
      "Example Episode:\n"
     ]
    },
    {
     "data": {
      "text/html": [
       "<div>\n",
       "<style scoped>\n",
       "    .dataframe tbody tr th:only-of-type {\n",
       "        vertical-align: middle;\n",
       "    }\n",
       "\n",
       "    .dataframe tbody tr th {\n",
       "        vertical-align: top;\n",
       "    }\n",
       "\n",
       "    .dataframe thead th {\n",
       "        text-align: right;\n",
       "    }\n",
       "</style>\n",
       "<table border=\"1\" class=\"dataframe\">\n",
       "  <thead>\n",
       "    <tr style=\"text-align: right;\">\n",
       "      <th></th>\n",
       "      <th>season</th>\n",
       "      <th>episode</th>\n",
       "      <th>title</th>\n",
       "      <th>directed_by</th>\n",
       "      <th>written_by</th>\n",
       "      <th>air_date</th>\n",
       "      <th>us_views_millions</th>\n",
       "      <th>imdb_rating</th>\n",
       "    </tr>\n",
       "  </thead>\n",
       "  <tbody>\n",
       "    <tr>\n",
       "      <th>11</th>\n",
       "      <td>1</td>\n",
       "      <td>12</td>\n",
       "      <td>The One with the Dozen Lasagnas</td>\n",
       "      <td>Paul Lazarus</td>\n",
       "      <td>Jeffrey Astrof &amp; Mike Sikowitz &amp; Adam Chase &amp; ...</td>\n",
       "      <td>1995-01-12</td>\n",
       "      <td>24.00</td>\n",
       "      <td>8.2</td>\n",
       "    </tr>\n",
       "    <tr>\n",
       "      <th>90</th>\n",
       "      <td>4</td>\n",
       "      <td>18</td>\n",
       "      <td>The One with Rachel's New Dress</td>\n",
       "      <td>Gail Mancuso</td>\n",
       "      <td>Story by : Andrew Reich &amp; Ted CohenTeleplay by...</td>\n",
       "      <td>1998-04-02</td>\n",
       "      <td>21.70</td>\n",
       "      <td>8.3</td>\n",
       "    </tr>\n",
       "    <tr>\n",
       "      <th>157</th>\n",
       "      <td>7</td>\n",
       "      <td>12</td>\n",
       "      <td>The One Where They're Up All Night</td>\n",
       "      <td>Kevin S. Bright</td>\n",
       "      <td>Zachary Rosenblatt</td>\n",
       "      <td>2001-01-11</td>\n",
       "      <td>22.86</td>\n",
       "      <td>8.7</td>\n",
       "    </tr>\n",
       "    <tr>\n",
       "      <th>118</th>\n",
       "      <td>5</td>\n",
       "      <td>22</td>\n",
       "      <td>The One with Joey's Big Break</td>\n",
       "      <td>Gary Halvorson</td>\n",
       "      <td>Story by : Shana Goldberg-MeehanTeleplay by : ...</td>\n",
       "      <td>1999-05-13</td>\n",
       "      <td>21.30</td>\n",
       "      <td>8.3</td>\n",
       "    </tr>\n",
       "  </tbody>\n",
       "</table>\n",
       "</div>"
      ],
      "text/plain": [
       "     season  episode                               title      directed_by  \\\n",
       "11        1       12     The One with the Dozen Lasagnas     Paul Lazarus   \n",
       "90        4       18     The One with Rachel's New Dress     Gail Mancuso   \n",
       "157       7       12  The One Where They're Up All Night  Kevin S. Bright   \n",
       "118       5       22       The One with Joey's Big Break   Gary Halvorson   \n",
       "\n",
       "                                            written_by    air_date  \\\n",
       "11   Jeffrey Astrof & Mike Sikowitz & Adam Chase & ...  1995-01-12   \n",
       "90   Story by : Andrew Reich & Ted CohenTeleplay by...  1998-04-02   \n",
       "157                                 Zachary Rosenblatt  2001-01-11   \n",
       "118  Story by : Shana Goldberg-MeehanTeleplay by : ...  1999-05-13   \n",
       "\n",
       "     us_views_millions  imdb_rating  \n",
       "11               24.00          8.2  \n",
       "90               21.70          8.3  \n",
       "157              22.86          8.7  \n",
       "118              21.30          8.3  "
      ]
     },
     "execution_count": 4,
     "metadata": {},
     "output_type": "execute_result"
    }
   ],
   "source": [
    "episodes = pd.read_csv((\"https://raw.githubusercontent.com/\"\n",
    " \"rfordatascience/tidytuesday/master/data/\"\n",
    " \"2020/2020-09-08/friends_info.csv\"))\n",
    "\n",
    "print(\"Example Episode:\")\n",
    "episodes.sample(4)"
   ]
  }
 ],
 "metadata": {
  "kernelspec": {
   "display_name": "Python 3",
   "language": "python",
   "name": "python3"
  },
  "language_info": {
   "codemirror_mode": {
    "name": "ipython",
    "version": 3
   },
   "file_extension": ".py",
   "mimetype": "text/x-python",
   "name": "python",
   "nbconvert_exporter": "python",
   "pygments_lexer": "ipython3",
   "version": "3.11.5"
  }
 },
 "nbformat": 4,
 "nbformat_minor": 2
}
