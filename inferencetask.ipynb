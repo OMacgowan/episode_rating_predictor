{
 "cells": [
  {
   "cell_type": "code",
   "execution_count": null,
   "metadata": {},
   "outputs": [],
   "source": [
    "# I want to verify that lots of exclamation changes episode IMDb rating \n",
    "\n",
    "# Resampling import to use in bootstrapping \n",
    "from sklearn.utils import resample\n",
    "\n",
    "# Two populations: IMDb ratings and Viewership \n",
    "df_regr = (master_list\n",
    "    .groupby(['episode', 'season'])\n",
    "    .agg({'Speaker_Exclaim': 'sum', 'Speaker_Exclaimed_Toward': 'sum', 'us_views_millions': 'mean', 'imdb_rating': 'mean'})\n",
    "    .reset_index()\n",
    ")\n",
    "mean_exclamation = np.mean(df['Speaker_Exclaim'])\n",
    "pop1 = df[df['Speaker_Exclaim']>mean_exclamation]['imdb_rating']\n",
    "pop2 = df['imdb_rating']\n",
    "\n",
    "# Define number of bootstrap resamples\n",
    "n_resamples = 1000\n",
    "mean_diffs = np.zeros(n_resamples)\n",
    "\n",
    "#  Bootstrapping procedure (add difference in each resample mean to the list)\n",
    "for i in range(n_resamples):\n",
    "    s1 = resample(pop1, replace=True)\n",
    "    s2 = resample(pop2, replace=True)\n",
    "    mean_diffs[i] = np.mean(s1)-np.mean(s2) \n",
    "    \n",
    "# Confidence interval \n",
    "ci_95 = np.percentile(mean_diffs, [2.5, 97.5]) \n",
    "\n",
    "# Mean Difference \n",
    "mean_difference = np.mean(mean_diffs)\n"
   ]
  },
  {
   "cell_type": "markdown",
   "metadata": {},
   "source": [
    "Based on the testing results, it seems that more exclamation really does impact episode ratings. "
   ]
  }
 ],
 "metadata": {
  "language_info": {
   "name": "python"
  }
 },
 "nbformat": 4,
 "nbformat_minor": 2
}
